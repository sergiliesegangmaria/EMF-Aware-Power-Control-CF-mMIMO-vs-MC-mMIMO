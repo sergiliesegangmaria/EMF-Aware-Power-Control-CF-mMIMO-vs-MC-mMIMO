{
  "cells": [
    {
      "cell_type": "markdown",
      "metadata": {
        "id": "view-in-github",
        "colab_type": "text"
      },
      "source": [
        "<a href=\"https://colab.research.google.com/github/sergiliesegangmaria/EMF-Aware-Power-Control-CF-mMIMO-vs-MC-mMIMO/blob/main/EMF_Aware_PowerControl_CF_mMIMO_vs_MC_mMIMO.ipynb\" target=\"_parent\"><img src=\"https://colab.research.google.com/assets/colab-badge.svg\" alt=\"Open In Colab\"/></a>"
      ]
    },
    {
      "cell_type": "markdown",
      "source": [
        "# **Readme**\n",
        "\n",
        "The following numerical simulations evaluate the data rate performance of heuristic power control methods in cell-free (CF) and multi-cell (MC) mMIMO networks for DL and UL settings. The results of EMF exposure, also known as perceived user radiation, measured in terms of incident power density (DL) and specific absorption rate (UL), are also provided.\n",
        "\n",
        "To execute the associated code, please run first all the cells in section *General* and later those of the desired scenario (*DL* or *UL*)."
      ],
      "metadata": {
        "id": "mdzlsJie7Xyp"
      }
    },
    {
      "cell_type": "markdown",
      "metadata": {
        "id": "it56hpzG8Fwz"
      },
      "source": [
        "# **General**"
      ]
    },
    {
      "cell_type": "markdown",
      "metadata": {
        "id": "NcsZ_9fw3eAO"
      },
      "source": [
        "## **Package Import**"
      ]
    },
    {
      "cell_type": "code",
      "execution_count": null,
      "metadata": {
        "id": "itoClDwn2vs3"
      },
      "outputs": [],
      "source": [
        "import numpy as np\n",
        "import matplotlib.pyplot as plt\n",
        "import scipy\n",
        "import pandas as pd"
      ]
    },
    {
      "cell_type": "markdown",
      "metadata": {
        "id": "ebEaXBucxsAu"
      },
      "source": [
        "##**Orthogonal Pilots**"
      ]
    },
    {
      "cell_type": "code",
      "execution_count": null,
      "metadata": {
        "id": "13hELItvxrs9"
      },
      "outputs": [],
      "source": [
        "def PilotSetOrthogonal(tau_p):\n",
        "    Pilot_Set = np.zeros((tau_p, tau_p))\n",
        "    A = np.random.randn(tau_p, tau_p)\n",
        "    A_orth = scipy.linalg.orth(A)\n",
        "\n",
        "    for j in range(tau_p):\n",
        "        Pilot_Set[:, j] = A_orth[:, j]\n",
        "\n",
        "    return Pilot_Set"
      ]
    },
    {
      "cell_type": "markdown",
      "metadata": {
        "id": "BeHUD94L2R5D"
      },
      "source": [
        "##**Random Pilot Assignment**"
      ]
    },
    {
      "cell_type": "code",
      "execution_count": null,
      "metadata": {
        "id": "Bzt2OLCH2RrN"
      },
      "outputs": [],
      "source": [
        "def PilotAssignmentRandom(K, tau_p, Pilot_Set):\n",
        "    val_reuse = K // tau_p\n",
        "    Assignment = np.zeros(val_reuse * tau_p)\n",
        "    Phi = np.zeros((tau_p, val_reuse * tau_p))\n",
        "\n",
        "    for i in range(val_reuse):\n",
        "        start_col = i * tau_p\n",
        "        end_col = (i + 1) * tau_p\n",
        "        Phi[:, start_col:end_col] = Pilot_Set\n",
        "        Assignment[start_col:end_col] = np.arange(1, tau_p + 1)\n",
        "\n",
        "    val_remain = K - val_reuse * tau_p\n",
        "    Phi = np.concatenate((Phi, Pilot_Set[:, :val_remain]), axis=1)\n",
        "    Assignment = np.concatenate((Assignment, np.arange(1, val_remain + 1)))\n",
        "\n",
        "    return Phi, Assignment"
      ]
    },
    {
      "cell_type": "markdown",
      "metadata": {
        "id": "BcNajOD7s4He"
      },
      "source": [
        "##**Guarantee Minimum Distance**"
      ]
    },
    {
      "cell_type": "code",
      "execution_count": null,
      "metadata": {
        "id": "Zdh88rbEs2qF"
      },
      "outputs": [],
      "source": [
        "def GuaranteeMinimumDistance(pos, user_pos, D, M, K, d_min, wrapped):\n",
        "    if wrapped:\n",
        "        for k in range(K):\n",
        "            d_2D = np.zeros(M)\n",
        "            for m in range(M):\n",
        "                d_x = min(abs(pos[m, 0] - user_pos[k, 0]), D - abs(pos[m, 0] - user_pos[k, 0]))\n",
        "                d_y = min(abs(pos[m, 1] - user_pos[k, 1]), D - abs(pos[m, 1] - user_pos[k, 1]))\n",
        "                d_2D[m] = np.sqrt(d_x**2 + d_y**2)\n",
        "\n",
        "            while np.any(d_2D < d_min):\n",
        "                user_pos[k, :2] = np.random.rand(1, 2) * D\n",
        "                for m in range(M):\n",
        "                    d_x = min(abs(pos[m, 0] - user_pos[k, 0]), D - abs(pos[m, 0] - user_pos[k, 0]))\n",
        "                    d_y = min(abs(pos[m, 1] - user_pos[k, 1]), D - abs(pos[m, 1] - user_pos[k, 1]))\n",
        "                    d_2D[m] = np.sqrt(d_x**2 + d_y**2)\n",
        "    else:\n",
        "        for k in range(K):\n",
        "            d_2D = np.zeros(M)\n",
        "            for m in range(M):\n",
        "                d_x = user_pos[k, 0] - pos[m, 0]\n",
        "                d_y = user_pos[k, 1] - pos[m, 1]\n",
        "                d_2D[m] = np.sqrt(d_x**2 + d_y**2)\n",
        "\n",
        "            while np.any(d_2D < d_min):\n",
        "                user_pos[k, :2] = np.random.rand(1, 2) * D\n",
        "                for m in range(M):\n",
        "                    d_x = user_pos[k, 0] - pos[m, 0]\n",
        "                    d_y = user_pos[k, 1] - pos[m, 1]\n",
        "                    d_2D[m] = np.sqrt(d_x**2 + d_y**2)\n",
        "    return user_pos\n"
      ]
    },
    {
      "cell_type": "markdown",
      "metadata": {
        "id": "a4Qmh2ilu5PP"
      },
      "source": [
        "## **Channel Model**"
      ]
    },
    {
      "cell_type": "code",
      "execution_count": null,
      "metadata": {
        "id": "t4F81Hr_6Ulk"
      },
      "outputs": [],
      "source": [
        "def ChannelModel(f, pos, user_pos, N, M, K, antenna_spacing, wavelength, wrapped, D, d_min, fading):\n",
        "    H = np.zeros((N, M, K), dtype=complex)\n",
        "    Beta = np.zeros((M, K))\n",
        "    C = np.zeros((N, N, M, K), dtype=complex)\n",
        "\n",
        "    if fading == 2:\n",
        "        F_LoS = ShadowingCorrelationModel(M, K, user_pos, wrapped, D, 1)\n",
        "    else:\n",
        "        F_LoS = np.zeros((M, K))\n",
        "\n",
        "    F_NLoS = ShadowingCorrelationModel(M, K, user_pos, wrapped, D, 0)\n",
        "\n",
        "    f_GH = f * 1e-9\n",
        "    d0 = 18\n",
        "    kappa = 2 * np.pi / wavelength\n",
        "    S = kappa * antenna_spacing\n",
        "\n",
        "    for m in range(M):\n",
        "        for k in range(K):\n",
        "            if wrapped:\n",
        "                d_x = min(np.mod(pos[m, 0] - user_pos[k, 0], D), np.mod(user_pos[k, 0] - pos[m, 0], D))\n",
        "                d_y = min(np.mod(pos[m, 1] - user_pos[k, 1], D), np.mod(user_pos[k, 1] - pos[m, 1], D))\n",
        "            else:\n",
        "                d_x = user_pos[k, 0] - pos[m, 0]\n",
        "                d_y = user_pos[k, 1] - pos[m, 1]\n",
        "            d_z = user_pos[k, 2] - pos[m, 2]\n",
        "            d_2D = np.sqrt(d_x**2 + d_y**2)\n",
        "            d_3D = np.sqrt(d_x**2 + d_y**2 + d_z**2)\n",
        "\n",
        "            if fading == 2:\n",
        "                Prob_LoS = min(1, d0 / d_2D + (1 - d0 / d_2D) * np.exp(-d_2D / (2 * d0)))\n",
        "            else:\n",
        "                Prob_LoS = 0\n",
        "\n",
        "            if Prob_LoS == 1:\n",
        "                R = np.finfo(float).max\n",
        "            else:\n",
        "                R = Prob_LoS / (1 - Prob_LoS)\n",
        "\n",
        "            if wrapped:\n",
        "                extra_dist = np.zeros(N)\n",
        "                for n in range(N):\n",
        "                    d_y_aux = min(np.mod(pos[m, 1] + antenna_spacing * n - user_pos[k, 1], D), np.mod(user_pos[k, 1] - pos[m, 1] + antenna_spacing * n, D)\n",
        "                    )\n",
        "                    extra_dist[n] = d_3D - np.sqrt(d_x**2 + d_y_aux**2 + d_z**2)\n",
        "            else:\n",
        "                azimuth = np.arctan2(d_y, d_x)\n",
        "                elevation = np.arctan(d_z / np.sqrt(d_x**2 + d_y**2))\n",
        "                aoa = [azimuth, elevation]\n",
        "                a, e, r = np.cart2sph(d_x, d_y, d_z)\n",
        "                if abs(r - d_3D) > 1e-3 or abs(a - azimuth) > 1e-3 or abs(e - elevation) > 1e-3:\n",
        "                    raise ValueError('Badly defined Cartesian coordinates')\n",
        "\n",
        "            d_2D = np.sqrt(d_x**2 + d_y**2)\n",
        "            d_BP = 4 * (pos[m, 2] - 1) * (user_pos[k, 2] - 1) / wavelength\n",
        "            if d_2D < d_BP:\n",
        "                PL_LoS = 22 * np.log10(d_3D) + 28 + 20 * np.log10(f_GH)\n",
        "            else:\n",
        "                PL_LoS = 40 * np.log10(d_3D) + 28 + 20 * np.log10(f_GH) - 9 * np.log10(d_BP**2 + (pos[m, 2] - user_pos[k, 2])**2)\n",
        "            Beta_mk_dB = -PL_LoS + F_LoS[m, k]\n",
        "\n",
        "            if d_2D < d_min:\n",
        "                raise ValueError('Minimum distance not complied!')\n",
        "\n",
        "            if Prob_LoS == 0:\n",
        "                PL_NLoS = 36.7 * np.log10(d_3D) + 22.7 + 26 * np.log10(f_GH) - 0.3 * (user_pos[k, 2] - 1.5)\n",
        "                PL_NLoS = max(PL_LoS, PL_NLoS)\n",
        "                Beta_mk_dB = -PL_NLoS + F_NLoS[m, k]\n",
        "            Beta_mk = 10**(Beta_mk_dB / 10)\n",
        "            Beta[m, k] = Beta_mk\n",
        "            H_NLoS = np.sqrt(1/2) * (np.random.randn(N) + 1j * np.random.randn(N))\n",
        "\n",
        "            if wrapped:\n",
        "                H_LoS = np.exp(-1j * kappa * extra_dist)\n",
        "            else:\n",
        "                H_LoS = np.exp(1j * S * np.arange(0, N) * np.cos(aoa[1]) * np.sin(aoa[0]))\n",
        "\n",
        "            P_off = np.exp(1j * 2 * np.pi * np.random.rand(1))\n",
        "            H[:, m, k] = np.sqrt(Beta_mk / (1 + R)) * (np.sqrt(R) * H_LoS * P_off + H_NLoS)\n",
        "            C[:, :, m, k] = np.sqrt(Beta_mk / (1 + R)) * (np.sqrt(R) * np.outer(H_LoS, H_LoS.conj()) + np.eye(N))\n",
        "\n",
        "    return H, Beta, C"
      ]
    },
    {
      "cell_type": "markdown",
      "metadata": {
        "id": "-_TvIZ5r69Lv"
      },
      "source": [
        "### **Shadowing Correlation Model**"
      ]
    },
    {
      "cell_type": "code",
      "execution_count": null,
      "metadata": {
        "id": "Y8mE0hqC6vsN"
      },
      "outputs": [],
      "source": [
        "def ShadowingCorrelationModel(M, K, user_pos, wrapped, D, Prob_LoS):\n",
        "    R_F = np.zeros((M * K, M * K))\n",
        "\n",
        "    for m in range(M):\n",
        "        R_temp = np.zeros((K, K))\n",
        "        for k in range(K):\n",
        "            for i in range(K):\n",
        "                if wrapped:\n",
        "                    d_x = min(np.mod(user_pos[k, 0] - user_pos[i, 0], D), np.mod(user_pos[i, 0] - user_pos[k, 0], D))\n",
        "                    d_y = min(np.mod(user_pos[k, 1] - user_pos[i, 1], D), np.mod(user_pos[i, 1] - user_pos[k, 1], D))\n",
        "                else:\n",
        "                    d_x = abs(user_pos[k, 0] - user_pos[i, 0])\n",
        "                    d_y = abs(user_pos[k, 1] - user_pos[i, 1])\n",
        "                d_z = abs(user_pos[k, 2] - user_pos[i, 2])\n",
        "                d_k_i = np.sqrt(d_x**2 + d_y**2 + d_z**2)\n",
        "\n",
        "                if Prob_LoS == 0:\n",
        "                    std_shadowing = 4\n",
        "                    R_temp[k, i] = (std_shadowing**2) * np.exp(-d_k_i / 13)\n",
        "                else:\n",
        "                    std_shadowing = 3\n",
        "                    R_temp[k, i] = (std_shadowing**2) * np.exp(-d_k_i / 10)\n",
        "        R_F[m * K:(m + 1) * K, m * K:(m + 1) * K] = R_temp\n",
        "\n",
        "    v = np.random.randn(M * K)\n",
        "    _, Lambda, V = np.linalg.svd(R_F)\n",
        "    F_vec = np.atleast_1d(V @ np.sqrt(np.diag(Lambda)) @ v)\n",
        "    F = np.zeros((M, K))\n",
        "\n",
        "    for m in range(M):\n",
        "        F[m, :] = F_vec[m * K:(m + 1) * K]\n",
        "\n",
        "    return F\n"
      ]
    },
    {
      "cell_type": "markdown",
      "metadata": {
        "id": "khM6hMXsFQci"
      },
      "source": [
        "## **Linear MMSE Channel Estimation**"
      ]
    },
    {
      "cell_type": "code",
      "execution_count": null,
      "metadata": {
        "id": "gIvqCQkSFRT-"
      },
      "outputs": [],
      "source": [
        "def ChannelEstimation(N, M, K, tau_p, H, C, Phi, Eta_pilot, noise_variance):\n",
        "    H_estimate = np.zeros((N, M, K), dtype=complex)\n",
        "    Beta = np.zeros((M, K))\n",
        "\n",
        "    if np.array_equal(C[:, :, 0, 0], np.diag(np.diag(C[:, :, 0, 0]))):\n",
        "        for m in range(M):\n",
        "            Ym = np.sqrt(noise_variance / 2) * (np.random.randn(N, tau_p) + 1j * np.random.randn(N, tau_p))\n",
        "            for k in range(K):\n",
        "                Ym = Ym + np.sqrt(Eta_pilot[k]) * np.outer(H[:, m, k], Phi[:, k].conj())\n",
        "            for k in range(K):\n",
        "                y_mk = np.mult(Ym, Phi[:, k])\n",
        "                sum_alpha = 0\n",
        "                for j in range(K):\n",
        "                    Beta[m, j] = C[0, 0, m, j]\n",
        "                    sum_alpha = sum_alpha + Eta_pilot[j] * Beta[m, j] * np.abs(np.inner(Phi[:, j].conj(), Phi[:, k]))**2\n",
        "                alpha_mk = np.sqrt(Eta_pilot[k]) * Beta[m, k] / (sum_alpha + noise_variance)\n",
        "                H_estimate[:, m, k] = alpha_mk * y_mk\n",
        "\n",
        "    else:\n",
        "        for m in range(M):\n",
        "            Ym = np.sqrt(noise_variance / 2) * (np.random.randn(N, tau_p) + 1j * np.random.randn(N, tau_p))\n",
        "            for k in range(K):\n",
        "                Ym = Ym + np.sqrt(Eta_pilot[k]) * np.outer(H[:, m, k], Phi[:, k].conj())\n",
        "            for k in range(K):\n",
        "                y_mk = np.matmul(Ym, Phi[:, k])\n",
        "                sum_alpha = 0\n",
        "                for j in range(K):\n",
        "                    sum_alpha = sum_alpha + Eta_pilot[j] * C[:, :, m, j] * np.abs(np.inner(Phi[:, j].conj(), Phi[:, k]))**2\n",
        "                alpha_mk = np.sqrt(Eta_pilot[k]) * np.matmul(C[:, :, m, k], np.linalg.inv(sum_alpha + noise_variance * np.eye(N)))\n",
        "                H_estimate[:, m, k] = np.matmul(alpha_mk, y_mk)\n",
        "\n",
        "    return H_estimate"
      ]
    },
    {
      "cell_type": "markdown",
      "metadata": {
        "id": "LMwsNCnUjjEU"
      },
      "source": [
        "## **User Association UC-CF-mMIMO**"
      ]
    },
    {
      "cell_type": "code",
      "execution_count": null,
      "metadata": {
        "id": "36rItNQbjGn2"
      },
      "outputs": [],
      "source": [
        "def UserAssociationUC(M, K, Beta, N):\n",
        "    M_ASS = []\n",
        "\n",
        "    for k in range(K):\n",
        "        Beta_k = Beta[:, k]\n",
        "        index = np.argsort(-Beta_k)\n",
        "        M_ASS.append(sorted(index[:min(N,M)]))\n",
        "\n",
        "    K_ASS = []\n",
        "\n",
        "    for m in range(M):\n",
        "        K_m = []\n",
        "        for k in range(K):\n",
        "            M_k = M_ASS[k]\n",
        "            if m in M_k:\n",
        "                K_m.append(k)\n",
        "        K_ASS.append(sorted(K_m))\n",
        "\n",
        "    return K_ASS, M_ASS"
      ]
    },
    {
      "cell_type": "markdown",
      "metadata": {
        "id": "augDdVSAfiEt"
      },
      "source": [
        "## **User Association APC-CF-mMIMO**"
      ]
    },
    {
      "cell_type": "code",
      "execution_count": null,
      "metadata": {
        "id": "b-4Cd2LPffh1"
      },
      "outputs": [],
      "source": [
        "def UserAssociationAPC(M, K, Beta, N):\n",
        "    K_ASS = []\n",
        "\n",
        "    for m in range(M):\n",
        "        Beta_m = Beta[m, :]\n",
        "        index = np.argsort(-Beta_m)\n",
        "        K_ASS.append(sorted(index[:min(N,K)]))\n",
        "\n",
        "    M_ASS = []\n",
        "\n",
        "    for k in range(K):\n",
        "        M_k = []\n",
        "        for m in range(M):\n",
        "            K_m = K_ASS[m]\n",
        "            if k in K_m:\n",
        "                M_k.append(m)\n",
        "        M_ASS.append(sorted(M_k))\n",
        "\n",
        "    return K_ASS, M_ASS"
      ]
    },
    {
      "cell_type": "markdown",
      "metadata": {
        "id": "kxQ4S68cTTIb"
      },
      "source": [
        "# **DL**"
      ]
    },
    {
      "cell_type": "markdown",
      "metadata": {
        "id": "bixc3ABldCBm"
      },
      "source": [
        "## **MRT Beamformer**"
      ]
    },
    {
      "cell_type": "code",
      "execution_count": null,
      "metadata": {
        "id": "6EQk6mKudF6w"
      },
      "outputs": [],
      "source": [
        "def Precoding_DL(N, M, K, H_estimate):\n",
        "    W = np.zeros((N, M, K), dtype=complex)\n",
        "    Gamma = np.zeros((M, K))\n",
        "\n",
        "    for k in range(K):\n",
        "        for m in range(M):\n",
        "            W[:, m, k] = H_estimate[:, m, k]\n",
        "            Gamma[m, k] = np.linalg.norm(W[:, m, k]) ** 2\n",
        "\n",
        "    return W, Gamma"
      ]
    },
    {
      "cell_type": "markdown",
      "metadata": {
        "id": "-iVBkU8Edlhm"
      },
      "source": [
        "## **Power Control**"
      ]
    },
    {
      "cell_type": "code",
      "execution_count": null,
      "metadata": {
        "id": "apab36KsdoMs"
      },
      "outputs": [],
      "source": [
        "def PowerControl_DL(M, K, N_power, Gamma, Pt, K_ASS, M_ASS, EMF, H, W, noise_variance):\n",
        "    IPD = np.zeros((K, N_power))\n",
        "    R = np.zeros((K, N_power))\n",
        "\n",
        "    Eta, IPD[:, 0] = UniformPowerControl_DL(M, K, Gamma, Pt, K_ASS, M_ASS, EMF, H, W)\n",
        "    R[:, 0] = DataRate_DL(K, Eta, H, W, noise_variance, M_ASS)\n",
        "\n",
        "    Eta, IPD[:, 1] = ProportionalPowerControl_DL(M, K, Gamma, Pt, K_ASS, M_ASS, EMF, H, W)\n",
        "    R[:, 1] = DataRate_DL(K, Eta, H, W, noise_variance, M_ASS)\n",
        "\n",
        "    return R, IPD"
      ]
    },
    {
      "cell_type": "markdown",
      "metadata": {
        "id": "U1IC29hkfQlw"
      },
      "source": [
        "### **Uniform Power Control**"
      ]
    },
    {
      "cell_type": "code",
      "execution_count": null,
      "metadata": {
        "id": "snczKALOfTEs"
      },
      "outputs": [],
      "source": [
        "def UniformPowerControl_DL(M, K, Gamma, Pt, K_ASS, M_ASS, EMF, H, W):\n",
        "    Eta = np.zeros((M, K))\n",
        "    IPD = np.zeros(K)\n",
        "    constraint = False\n",
        "    counter = 0\n",
        "    step = 0.9\n",
        "\n",
        "    while not constraint:\n",
        "        counter += 1\n",
        "        for m in range(M):\n",
        "            K_m = K_ASS[m]\n",
        "            for k in range(K):\n",
        "                if k in K_m:\n",
        "                    Eta[m, k] = Pt / (Gamma[m, k] * len(K_m))\n",
        "\n",
        "        IPD = IncidentPowerDensity_DL(K, M_ASS, Eta, H, W)\n",
        "\n",
        "        if np.all(IPD <= EMF):\n",
        "            constraint = True\n",
        "        else:\n",
        "            Pt = Pt * step**(1 / counter)\n",
        "\n",
        "        if counter == 1e3:\n",
        "            counter = 0\n",
        "            step -= 0.1\n",
        "\n",
        "    CheckPowerConstraint_DL(M, Eta, Gamma, Pt, True)\n",
        "\n",
        "    return Eta, IPD"
      ]
    },
    {
      "cell_type": "markdown",
      "metadata": {
        "id": "9LaS6sJqf3Yi"
      },
      "source": [
        "### **Proportional Power Control**"
      ]
    },
    {
      "cell_type": "code",
      "execution_count": null,
      "metadata": {
        "id": "BU80FefKgNci"
      },
      "outputs": [],
      "source": [
        "def ProportionalPowerControl_DL(M, K, Gamma, Pt, K_ASS, M_ASS, EMF, H, W):\n",
        "    Eta = np.zeros((M, K))\n",
        "    IPD = np.zeros(K)\n",
        "    constraint = False\n",
        "    counter = 0\n",
        "    step = 0.9\n",
        "\n",
        "    while not constraint:\n",
        "        counter += 1\n",
        "        for m in range(M):\n",
        "            K_m = K_ASS[m]\n",
        "            if K_m:\n",
        "                sum_gamma = np.sum([Gamma[m, k] for k in K_m])\n",
        "                for k in K_m:\n",
        "                    Eta[m, k] = Pt / sum_gamma\n",
        "\n",
        "        IPD = IncidentPowerDensity_DL(K, M_ASS, Eta, H, W)\n",
        "\n",
        "        if np.all(IPD <= EMF):\n",
        "            constraint = True\n",
        "        else:\n",
        "            Pt = Pt * step**(1 / counter)\n",
        "\n",
        "        if counter == 1e3:\n",
        "            counter = 0\n",
        "            step -= 0.1\n",
        "\n",
        "    CheckPowerConstraint_DL(M, Eta, Gamma, Pt, True)\n",
        "\n",
        "    return Eta, IPD"
      ]
    },
    {
      "cell_type": "markdown",
      "metadata": {
        "id": "v_SFK9EZgc1C"
      },
      "source": [
        "### **Data Rate**"
      ]
    },
    {
      "cell_type": "code",
      "execution_count": null,
      "metadata": {
        "id": "rnUsYE9ngfUl"
      },
      "outputs": [],
      "source": [
        "def DataRate_DL(K, Eta, H, W, noise_variance, M_ASS):\n",
        "    SE = np.zeros(K)\n",
        "\n",
        "    for k in range(K):\n",
        "        M_k = M_ASS[k]\n",
        "        if M_k:\n",
        "            sum_num = 0\n",
        "            for m_index in range(len(M_k)):\n",
        "                m = M_k[m_index]\n",
        "                sum_num += np.sqrt(Eta[m, k]) * H[:, m, k].conj().T @ W[:, m, k]\n",
        "            num_k = abs(sum_num)**2\n",
        "\n",
        "            den_k = 0\n",
        "            for j in range(K):\n",
        "                sum_den = 0\n",
        "                M_j = M_ASS[j]\n",
        "\n",
        "                if j != k:\n",
        "                    for m_index in range(len(M_j)):\n",
        "                        m = M_j[m_index]\n",
        "                        sum_den += np.sqrt(Eta[m, j]) * H[:, m, k].conj().T @ W[:, m, j]\n",
        "\n",
        "                    den_k += abs(sum_den)**2\n",
        "\n",
        "            SE[k] = np.log2(1 + num_k / (den_k + noise_variance))\n",
        "        else:\n",
        "            SE[k] = 0\n",
        "\n",
        "    return np.real(SE)"
      ]
    },
    {
      "cell_type": "markdown",
      "metadata": {
        "id": "L7JpbPIKgn3n"
      },
      "source": [
        "### **Incident Power Density**"
      ]
    },
    {
      "cell_type": "code",
      "execution_count": null,
      "metadata": {
        "id": "vyOWY9vAgr-q"
      },
      "outputs": [],
      "source": [
        "def IncidentPowerDensity_DL(K, M_ASS, Eta, H, W):\n",
        "    IPD = np.zeros(K)\n",
        "\n",
        "    for k in range(K):\n",
        "        for j in range(K):\n",
        "            aux = 0\n",
        "            M_j = M_ASS[j]\n",
        "\n",
        "            for m_index in range(len(M_j)):\n",
        "                m = M_j[m_index]\n",
        "                aux += np.sqrt(Eta[m, j]) * H[:, m, k].conj().T @ W[:, m, j]\n",
        "\n",
        "            IPD[k] += abs(aux)**2\n",
        "\n",
        "    return IPD"
      ]
    },
    {
      "cell_type": "markdown",
      "metadata": {
        "id": "6dpjW56Tg_2M"
      },
      "source": [
        "### **Check Power Constraint**"
      ]
    },
    {
      "cell_type": "code",
      "execution_count": null,
      "metadata": {
        "id": "24w0lE5Dg_Ek"
      },
      "outputs": [],
      "source": [
        "def CheckPowerConstraint_DL(M, Eta, Gamma, Pt, equality):\n",
        "    for m in range(M):\n",
        "        power_AP_m = np.sum(Eta[m, :] * Gamma[m, :])\n",
        "        if power_AP_m != 0:\n",
        "            if equality:\n",
        "                if abs(power_AP_m - Pt) / Pt > 1e-3:\n",
        "                    raise ValueError('Power constraint not satisfied with equality')\n",
        "            else:\n",
        "                if power_AP_m > Pt:\n",
        "                    raise ValueError('Power constraint not satisfied with inequality')"
      ]
    },
    {
      "cell_type": "markdown",
      "metadata": {
        "id": "CZllFRanTZds"
      },
      "source": [
        "## **Main**"
      ]
    },
    {
      "cell_type": "code",
      "execution_count": null,
      "metadata": {
        "id": "n9NUgunkTW_Y"
      },
      "outputs": [],
      "source": [
        "np.random.seed(1)                                                               # For reproducibility\n",
        "\n",
        "# Simulation options\n",
        "wrapped = True                                                                  # Wrapped channel model\n",
        "fading = 2                                                                      # Fading: Rayleigh (1) or Rice (2)\n",
        "CSI = 2                                                                         # CSI assumption: perfect (1) or imperfect (2)\n",
        "constraint = 1                                                                  # EMF constraint: inactive (0) or active (1)\n",
        "\n",
        "# Optimization parameters\n",
        "N_channels = int(1e3)                                                           # Number of channel realizations\n",
        "N_power = 2                                                                     # Number of power control policies: uniform (UPC) and proportional (PPC)\n",
        "\n",
        "# Channel generation\n",
        "M_CF = 50                                                                       # Number of access points (APs) in the cell-free massive MIMO (CF-mMIMO) setup\n",
        "N_AP = 4                                                                        # Number of antennas at the AP\n",
        "N_BS = M_CF                                                                     # Number of antennas for the multi-cell mMIMO (MC-mMIMO) base stations (BSs)\n",
        "M_MC = N_AP                                                                     # Number of BSs in the MC-mMIMO case\n",
        "K = 40                                                                          # Number of users\n",
        "N_users_APC = 10                                                                # Number of users that each AP is connected to in the AP-centric CF-mMIMO (APC-CF-mMIMO) setup\n",
        "N_APs_UC = 5                                                                    # Number of APs to which each user is connected to in the user-centric CF-mMIMO (UC-CF-mMIMO) setup\n",
        "f = 1.9e9                                                                       # Carrier frequency\n",
        "wavelength = 3e8 / f                                                            # Wavelength\n",
        "antenna_spacing = wavelength / 2                                                # Antenna spacing (uniform linear array)\n",
        "BW = 20e6                                                                       # Bandwidth\n",
        "h_AP = 10                                                                       # AP/BS height\n",
        "h_user = 1.65                                                                   # User height\n",
        "d_min = 1e1                                                                     # Minimum 2D AP/BS-user distance\n",
        "D = 1e3                                                                         # D x D is the size of the considered square area\n",
        "antenna_gain = 1                                                                # Antenna gain of AP/BS/users\n",
        "\n",
        "# Power budgets\n",
        "P_AP = 200e-3                                                                   # Power budget of the single AP (CF-mMIMO setup)\n",
        "P_AP = P_AP * antenna_gain                                                      # ... add antenna gain\n",
        "P_BS = P_AP * M_CF / M_MC                                                       # Power budget of the BS (MC-mMIMO setup)\n",
        "\n",
        "# Noise variance\n",
        "noise_figure = 9                                                                # Noise figure in dB\n",
        "N0 = -174                                                                       # PSD noise in dBm/Hz (AWGN)\n",
        "noise_variance = BW * 10**(0.1 * noise_figure) * 10**(0.1 * N0) * 1e-3          # F*N0*B\n",
        "\n",
        "# Pilot assignment\n",
        "tau_c = 200                                                                     # Length of coherence interval in time/frequency samples\n",
        "tau_p = int(np.ceil(K / 2))                                                     # Number of pilot symbols\n",
        "Pilot_Set = PilotSetOrthogonal(tau_p)                                           # Set of orthogonal pilots\n",
        "Phi, Assignment = PilotAssignmentRandom(K, tau_p, Pilot_Set)                    # Random pilot assignment\n",
        "P_training = 100e-3                                                             # Users (UL) training power\n",
        "P_training *= antenna_gain                                                      # ... add antenna gain\n",
        "Eta_pilot = tau_p * P_training * np.ones(K)                                     # ... over tau_p sequences\n",
        "\n",
        "# Pure CF (or fully-connected network) associations\n",
        "K_ASS_CF = [list(range(0, K)) for _ in range(M_CF)]                             # All users are associated to all APs\n",
        "M_ASS_CF = [list(range(0, M_CF)) for _ in range(K)]                             # All APs are associated to all users\n",
        "\n",
        "# Data rates and incident power densities (IPDs)\n",
        "R_CF = np.zeros((K, N_power, N_channels))\n",
        "R_UC = np.zeros((K, N_power, N_channels))\n",
        "R_APC = np.zeros((K, N_power, N_channels))\n",
        "R_MC = np.zeros((K, N_power, N_channels))\n",
        "\n",
        "I_CF = np.zeros((K, N_power, N_channels))\n",
        "I_UC = np.zeros((K, N_power, N_channels))\n",
        "I_APC = np.zeros((K, N_power, N_channels))\n",
        "I_MC = np.zeros((K, N_power, N_channels))\n",
        "\n",
        "# Electromagnetic field (EMF) exposure DL constraints\n",
        "EMF = 10                                                                        # Maximum IPD in W/m2\n",
        "EMF = EMF * wavelength**2 / (4 * np.pi)                                         # Rescale to include wavelength and 4*pi (units of Watts)\n",
        "\n",
        "if constraint == 0:\n",
        "    EMF = np.inf\n",
        "\n",
        "# Monte Carlo iterations\n",
        "for n in range(0, N_channels):\n",
        "    print(f'Channel realization {n + 1} out of {N_channels}')\n",
        "\n",
        "    # User and AP positions\n",
        "    AP_pos = np.concatenate((D * np.random.rand(M_CF, 2), h_AP * np.ones((M_CF, 1))), axis=1)\n",
        "    user_pos = np.concatenate((D * np.random.rand(K, 2), h_user * np.ones((K, 1))), axis=1)\n",
        "\n",
        "    # 4 fixed BSs with N_AP antenna each and located at the center of the 4 quadrants of the deployment area.\n",
        "    BI_pos = np.zeros((M_MC, 3))\n",
        "    BI_pos[0, :] = [D / 4, D / 4, h_AP]\n",
        "    BI_pos[1, :] = [3 * D / 4, D / 4, h_AP]\n",
        "    BI_pos[2, :] = [3 * D / 4, 3 * D / 4, h_AP]\n",
        "    BI_pos[3, :] = [D / 4, 3 * D / 4, h_AP]\n",
        "\n",
        "    # Guarantee minimum distance\n",
        "    user_pos = GuaranteeMinimumDistance(np.concatenate((AP_pos, BI_pos), axis=0), user_pos, D, M_CF + M_MC, K, d_min, wrapped)\n",
        "\n",
        "    if n == 0:\n",
        "        fig = plt.figure()\n",
        "        ax = fig.add_subplot(111, projection='3d')\n",
        "        ax.scatter(user_pos[:, 0], user_pos[:, 1], user_pos[:, 2], marker='x')\n",
        "        ax.scatter(AP_pos[:, 0], AP_pos[:, 1], AP_pos[:, 2], marker='o')\n",
        "        ax.scatter(BI_pos[:, 0], BI_pos[:, 1], BI_pos[:, 2], marker='s')\n",
        "        ax.set_xlabel('X-axis', labelpad=10)\n",
        "        ax.set_ylabel('Y-axis', labelpad=10)\n",
        "        ax.set_title('Deployment Example', fontsize=15)\n",
        "        ax.legend(['User', 'AP', 'BS'], loc='best')\n",
        "        ax.grid(True, which='both', linestyle='--', linewidth=0.5)\n",
        "        ax.minorticks_on()\n",
        "        plt.show()\n",
        "\n",
        "    # Scenarios CF-mMIMO\n",
        "    # Channel and large-scale fading coefficients\n",
        "    H, Beta, C = ChannelModel(f, AP_pos, user_pos, N_AP, M_CF, K, antenna_spacing, wavelength, wrapped, D, d_min, fading)\n",
        "\n",
        "    # LMMSE estimation\n",
        "    if CSI == 1:\n",
        "        H_estimate = H\n",
        "    elif CSI == 2:\n",
        "        H_estimate = ChannelEstimation(N_AP, M_CF, K, tau_p, H, C, Phi, Eta_pilot, noise_variance)\n",
        "\n",
        "    # MRT beamformer\n",
        "    W, Gamma = Precoding_DL(N_AP, M_CF, K, H_estimate)\n",
        "\n",
        "    # I) Pure CF\n",
        "    # Associations\n",
        "    K_ASS = K_ASS_CF\n",
        "    M_ASS = M_ASS_CF\n",
        "\n",
        "    # Power control results\n",
        "    R, I = PowerControl_DL(M_CF, K, N_power, Gamma, P_AP, K_ASS, M_ASS, EMF, H, W, noise_variance)\n",
        "    R_CF[:, :, n] = R\n",
        "    I_CF[:, :, n] = I\n",
        "\n",
        "    # II) UC\n",
        "    # Associations\n",
        "    K_ASS, M_ASS = UserAssociationUC(M_CF, K, Beta, N_APs_UC)\n",
        "\n",
        "    # Power control results\n",
        "    R, I = PowerControl_DL(M_CF, K, N_power, Gamma, P_AP, K_ASS, M_ASS, EMF, H, W, noise_variance)\n",
        "    R_UC[:, :, n] = R\n",
        "    I_UC[:, :, n] = I\n",
        "\n",
        "    # III) APC\n",
        "    # Associations\n",
        "    K_ASS, M_ASS = UserAssociationAPC(M_CF, K, Beta, N_users_APC)\n",
        "\n",
        "    # Power control results\n",
        "    R, I = PowerControl_DL(M_CF, K, N_power, Gamma, P_AP, K_ASS, M_ASS, EMF, H, W, noise_variance)\n",
        "    R_APC[:, :, n] = R\n",
        "    I_APC[:, :, n] = I\n",
        "\n",
        "    # Scenario MC-mMIMO\n",
        "    # Channel and large-scale fading coefficients\n",
        "    H, Beta, C = ChannelModel(f, BI_pos, user_pos, N_BS, M_MC, K, antenna_spacing, wavelength, wrapped, D, d_min, fading)\n",
        "\n",
        "    # Channel estimation\n",
        "    if CSI == 1:\n",
        "        H_estimate = H\n",
        "    elif CSI == 2:\n",
        "        H_estimate = ChannelEstimation(N_BS, M_MC, K, tau_p, H, C, Phi, Eta_pilot, noise_variance)\n",
        "\n",
        "    # MRT beamformer\n",
        "    W, Gamma = Precoding_DL(N_BS, M_MC, K, H_estimate)\n",
        "\n",
        "    # User association MC-mMIMO\n",
        "    K_ASS, M_ASS = UserAssociationUC(M_MC, K, Beta, 1)\n",
        "\n",
        "    # Power control results\n",
        "    R, I = PowerControl_DL(M_MC, K, N_power, Gamma, P_BS, K_ASS, M_ASS, EMF, H, W, noise_variance)\n",
        "    R_MC[:, :, n] = R\n",
        "    I_MC[:, :, n] = I\n",
        "\n",
        "# Convert rates from bps/Hz to bps\n",
        "R_CF *= BW * (1 - tau_p / tau_c) / 2\n",
        "R_UC *= BW * (1 - tau_p / tau_c) / 2\n",
        "R_APC *= BW * (1 - tau_p / tau_c) / 2\n",
        "R_MC *= BW * (1 - tau_p / tau_c) / 2\n",
        "\n",
        "I_CF *= 4 * np.pi / (wavelength ** 2)\n",
        "I_UC *= 4 * np.pi / (wavelength ** 2)\n",
        "I_APC *= 4 * np.pi / (wavelength ** 2)\n",
        "I_MC *= 4 * np.pi / (wavelength ** 2)\n",
        "\n",
        "# Plot rate results\n",
        "plt.figure()\n",
        "markers = [\"o\",\"s\"]\n",
        "colors = ['#1f77b4', '#ff7f0e', '#2ca02c', '#d62728']\n",
        "for i in range(N_power):\n",
        "      ind = 0\n",
        "      aux_R = R_CF[:, i, :]\n",
        "      ecdf = scipy.stats.ecdf(aux_R.ravel() / 1e6)\n",
        "      x = ecdf.cdf.quantiles\n",
        "      y = ecdf.cdf.probabilities\n",
        "      plt.plot(x, y)\n",
        "      plt.gca().lines[i + 2*ind].set_color(colors[ind])\n",
        "      plt.gca().lines[i + 2*ind].set_marker(markers[i])\n",
        "      plt.gca().lines[i + 2*ind].set_markevery(int(K * N_channels / 40))\n",
        "\n",
        "for i in range(N_power):\n",
        "      ind = 1\n",
        "      aux_R = R_UC[:, i, :]\n",
        "      ecdf = scipy.stats.ecdf(aux_R.ravel() / 1e6)\n",
        "      x = ecdf.cdf.quantiles\n",
        "      y = ecdf.cdf.probabilities\n",
        "      plt.plot(x, y)\n",
        "      plt.gca().lines[i + 2*ind].set_color(colors[ind])\n",
        "      plt.gca().lines[i + 2*ind].set_marker(markers[i])\n",
        "      plt.gca().lines[i + 2*ind].set_markevery(int(K * N_channels / 20))\n",
        "\n",
        "for i in range(N_power):\n",
        "      ind = 2\n",
        "      aux_R = R_APC[:, i, :]\n",
        "      ecdf = scipy.stats.ecdf(aux_R.ravel() / 1e6)\n",
        "      x = ecdf.cdf.quantiles\n",
        "      y = ecdf.cdf.probabilities\n",
        "      plt.plot(x, y)\n",
        "      plt.gca().lines[i + 2*ind].set_color(colors[ind])\n",
        "      plt.gca().lines[i + 2*ind].set_marker(markers[i])\n",
        "      plt.gca().lines[i + 2*ind].set_markevery(int(K * N_channels / 10))\n",
        "\n",
        "for i in range(N_power):\n",
        "      ind = 3\n",
        "      aux_R = R_MC[:, i, :]\n",
        "      ecdf = scipy.stats.ecdf(aux_R.ravel() / 1e6)\n",
        "      x = ecdf.cdf.quantiles\n",
        "      y = ecdf.cdf.probabilities\n",
        "      plt.plot(x, y)\n",
        "      plt.gca().lines[i + 2*ind].set_color(colors[ind])\n",
        "      plt.gca().lines[i + 2*ind].set_marker(markers[i])\n",
        "      plt.gca().lines[i + 2*ind].set_markevery(int(K * N_channels / 5))\n",
        "\n",
        "plt.xlabel('Rate per user [Mbit/s]', fontsize=15)\n",
        "plt.ylabel('CDF', fontsize=15)\n",
        "plt.title('Throughput vs Power Control (DL)', fontsize=15)\n",
        "plt.legend(['CF-mMIMO: UPC', 'CF-mMIMO: PPC', 'UC-CF-mMIMO: UPC', 'UC-CF-mMIMO: PPC', 'APC-CF-mMIMO: UPC',\n",
        "            'APC-CF-mMIMO: PPC', 'MC-mMIMO: UPC', 'MC-mMIMO: PPC'], loc='best', fontsize=15)\n",
        "plt.grid()\n",
        "plt.show()\n",
        "\n",
        "# Plot IPD results\n",
        "plt.figure()\n",
        "for i in range(N_power):\n",
        "      ind = 0\n",
        "      aux_I = I_CF[:, i, :]\n",
        "      ecdf = scipy.stats.ecdf(aux_I.ravel())\n",
        "      x = ecdf.cdf.quantiles\n",
        "      y = ecdf.cdf.probabilities\n",
        "      plt.plot(x, y)\n",
        "      plt.gca().lines[i + 2*ind].set_color(colors[ind])\n",
        "      plt.gca().lines[i + 2*ind].set_marker(markers[i])\n",
        "      plt.gca().lines[i + 2*ind].set_markevery(int(K * N_channels / 40))\n",
        "\n",
        "for i in range(N_power):\n",
        "      ind = 1\n",
        "      aux_I = I_UC[:, i, :]\n",
        "      ecdf = scipy.stats.ecdf(aux_I.ravel())\n",
        "      x = ecdf.cdf.quantiles\n",
        "      y = ecdf.cdf.probabilities\n",
        "      plt.plot(x, y)\n",
        "      plt.gca().lines[i + 2*ind].set_color(colors[ind])\n",
        "      plt.gca().lines[i + 2*ind].set_marker(markers[i])\n",
        "      plt.gca().lines[i + 2*ind].set_markevery(int(K * N_channels / 20))\n",
        "\n",
        "for i in range(N_power):\n",
        "      ind = 2\n",
        "      aux_I = I_APC[:, i, :]\n",
        "      ecdf = scipy.stats.ecdf(aux_I.ravel())\n",
        "      x = ecdf.cdf.quantiles\n",
        "      y = ecdf.cdf.probabilities\n",
        "      plt.plot(x, y)\n",
        "      plt.gca().lines[i + 2*ind].set_color(colors[ind])\n",
        "      plt.gca().lines[i + 2*ind].set_marker(markers[i])\n",
        "      plt.gca().lines[i + 2*ind].set_markevery(int(K * N_channels / 10))\n",
        "\n",
        "for i in range(N_power):\n",
        "      ind = 3\n",
        "      aux_I = I_MC[:, i, :]\n",
        "      ecdf = scipy.stats.ecdf(aux_I.ravel())\n",
        "      x = ecdf.cdf.quantiles\n",
        "      y = ecdf.cdf.probabilities\n",
        "      plt.plot(x, y)\n",
        "      plt.gca().lines[i + 2*ind].set_color(colors[ind])\n",
        "      plt.gca().lines[i + 2*ind].set_marker(markers[i])\n",
        "      plt.gca().lines[i + 2*ind].set_markevery(int(K * N_channels / 5))\n",
        "\n",
        "plt.xlabel('IPD per user [W/m$^2$]', fontsize=15)\n",
        "plt.ylabel('CDF', fontsize=15)\n",
        "plt.title('Exposure vs Power Control (DL)', fontsize=15)\n",
        "plt.legend(['CF-mMIMO: UPC', 'CF-mMIMO: PPC', 'UC-CF-mMIMO: UPC', 'UC-CF-mMIMO: PPC', 'APC-CF-mMIMO: UPC',\n",
        "            'APC-CF-mMIMO: PPC', 'MC-mMIMO: UPC', 'MC-mMIMO: PPC'], loc='best', fontsize=15)\n",
        "plt.xscale('log')\n",
        "plt.grid()\n",
        "plt.show()"
      ]
    },
    {
      "cell_type": "markdown",
      "metadata": {
        "id": "2TlXK7HUdS1h"
      },
      "source": [
        "# **UL**"
      ]
    },
    {
      "cell_type": "markdown",
      "metadata": {
        "id": "3hlCI7SfGakQ"
      },
      "source": [
        "## **MRC Equalizer**"
      ]
    },
    {
      "cell_type": "code",
      "execution_count": null,
      "metadata": {
        "id": "E7iV7j95GYwP"
      },
      "outputs": [],
      "source": [
        "def Filtering_UL(N, M, K, H_estimate):\n",
        "    G = np.zeros((N, M, K), dtype=complex)\n",
        "\n",
        "    for k in range(K):\n",
        "        for m in range(M):\n",
        "            G[:, m, k] = H_estimate[:, m, k]\n",
        "\n",
        "    return G"
      ]
    },
    {
      "cell_type": "markdown",
      "metadata": {
        "id": "dfPxYiBZGpCg"
      },
      "source": [
        "## **Power Control**"
      ]
    },
    {
      "cell_type": "code",
      "execution_count": null,
      "metadata": {
        "id": "0xN8D9H9Gnva"
      },
      "outputs": [],
      "source": [
        "def PowerControl_UL(K, N_power, C, P_user, M_ASS, b, EMF, H, G, noise_variance, P_0, alpha):\n",
        "    SAR = np.zeros((K, N_power))\n",
        "    R = np.zeros((K, N_power))\n",
        "\n",
        "    Eta, SAR[:, 0] = UniformPowerControl_UL(K, P_user, b, EMF)\n",
        "    R[:, 0] = DataRate_UL(K, Eta, H, G, noise_variance, M_ASS)\n",
        "\n",
        "    Eta, SAR[:, 1] = FractionalPowerControl_UL(K, C, M_ASS, b, EMF, P_user, P_0, alpha)\n",
        "    R[:, 1] = DataRate_UL(K, Eta, H, G, noise_variance, M_ASS)\n",
        "\n",
        "    return R, SAR"
      ]
    },
    {
      "cell_type": "markdown",
      "metadata": {
        "id": "AHFi_eXHGzW0"
      },
      "source": [
        "### **Uniform Power Control**"
      ]
    },
    {
      "cell_type": "code",
      "execution_count": null,
      "metadata": {
        "id": "xkW9JMl3GrDL"
      },
      "outputs": [],
      "source": [
        "def UniformPowerControl_UL(K, P_user, b, EMF):\n",
        "    constraint = False\n",
        "    counter = 0\n",
        "    step = 0.9\n",
        "\n",
        "    while not constraint:\n",
        "        counter += 1\n",
        "        Eta = P_user * np.ones(K)\n",
        "        SAR = SpecificAbsorptionRate_UL(b, Eta)\n",
        "\n",
        "        if np.all(SAR <= EMF):\n",
        "            constraint = True\n",
        "        else:\n",
        "            P_user = P_user * (step ** (1 / counter))\n",
        "\n",
        "        if counter == 1e3:\n",
        "            counter = 0\n",
        "            step -= 0.1\n",
        "\n",
        "    CheckPowerConstraint_UL(K, Eta, P_user, True)\n",
        "\n",
        "    return Eta, SAR"
      ]
    },
    {
      "cell_type": "markdown",
      "metadata": {
        "id": "BFmdwAVFITCi"
      },
      "source": [
        "### **Fractional Power Control**"
      ]
    },
    {
      "cell_type": "code",
      "execution_count": null,
      "metadata": {
        "id": "DVsiBrTUIRvH"
      },
      "outputs": [],
      "source": [
        "def FractionalPowerControl_UL(K, C, M_ASS, b, EMF, P_user, P_0, alpha):\n",
        "    Eta = np.zeros(K)\n",
        "    constraint = False\n",
        "    counter = 0\n",
        "    step = 0.9\n",
        "\n",
        "    while not constraint:\n",
        "        counter += 1\n",
        "        for k in range(K):\n",
        "            M_k = M_ASS[k]\n",
        "            if M_k:\n",
        "                aux = 0\n",
        "                for i in range(0, len(M_k)):\n",
        "                    m = M_k[i]\n",
        "                    aux += np.real(np.trace(C[:, :, m, k])) ** 2\n",
        "                xi_k = np.sqrt(aux)\n",
        "                Eta[k] = min(P_user, P_0 * xi_k ** (-alpha))\n",
        "            else:\n",
        "                Eta[k] = 0\n",
        "        SAR = SpecificAbsorptionRate_UL(b, Eta)\n",
        "        if np.all(SAR <= EMF):\n",
        "            constraint = True\n",
        "        else:\n",
        "            P_user = P_user * step ** (1 / counter)\n",
        "\n",
        "        if counter == 1e3:\n",
        "            counter = 0\n",
        "            step -= 0.1\n",
        "\n",
        "    CheckPowerConstraint_UL(K, Eta, P_user, False)\n",
        "\n",
        "    return Eta, SAR\n"
      ]
    },
    {
      "cell_type": "markdown",
      "metadata": {
        "id": "n6xSwakaHy8z"
      },
      "source": [
        "### **Data Rate**"
      ]
    },
    {
      "cell_type": "code",
      "execution_count": null,
      "metadata": {
        "id": "Yfn8bcP6HxV_"
      },
      "outputs": [],
      "source": [
        "def DataRate_UL(K, Eta, H, G, noise_variance, M_ASS):\n",
        "    SE = np.zeros(K)\n",
        "\n",
        "    for k in range(K):\n",
        "        M_k = M_ASS[k]\n",
        "        if M_k:\n",
        "            sum_num = 0\n",
        "            for m_index in range(0, len(M_k)):\n",
        "                m = M_k[m_index]\n",
        "                sum_num += np.inner(G[:, m, k].conj(), H[:, m, k])\n",
        "\n",
        "            num_k = Eta[k] * np.abs(sum_num) ** 2\n",
        "\n",
        "            den_k = 0\n",
        "            for j in range(K):\n",
        "                if j != k:\n",
        "                    M_j = M_ASS[j]\n",
        "                    sum_den = 0\n",
        "                    for m_index in range(0, len(M_j)):\n",
        "                        m = M_j[m_index]\n",
        "                        sum_den += np.inner(G[:, m, k].conj(), H[:, m, j])\n",
        "                    den_k += Eta[j] * np.abs(sum_den) ** 2\n",
        "\n",
        "            sum_noise = 0\n",
        "            for m_index in range(0, len(M_k)):\n",
        "                m = M_k[m_index]\n",
        "                sum_noise += noise_variance * np.linalg.norm(G[:, m, k]) ** 2\n",
        "\n",
        "            SE[k] = np.log2(1 + num_k / (den_k + sum_noise))\n",
        "        else:\n",
        "            SE[k] = 0\n",
        "\n",
        "    return SE"
      ]
    },
    {
      "cell_type": "markdown",
      "metadata": {
        "id": "C5LOMxMWHKnF"
      },
      "source": [
        "### **Specific Absorption Rate**"
      ]
    },
    {
      "cell_type": "code",
      "execution_count": null,
      "metadata": {
        "id": "pB6d1L1RHFMl"
      },
      "outputs": [],
      "source": [
        "def SpecificAbsorptionRate_UL(b, Eta):\n",
        "    SAR = b * Eta\n",
        "    return SAR"
      ]
    },
    {
      "cell_type": "markdown",
      "metadata": {
        "id": "eS-ToaIFHbiO"
      },
      "source": [
        "### **Check Power Constraint**"
      ]
    },
    {
      "cell_type": "code",
      "execution_count": null,
      "metadata": {
        "id": "VH8M1Ug_Hatl"
      },
      "outputs": [],
      "source": [
        "def CheckPowerConstraint_UL(K, Eta, P_user, equality):\n",
        "    for k in range(K):\n",
        "        power_user_k = Eta[k]\n",
        "        if power_user_k != 0:\n",
        "            if equality:\n",
        "                if abs(power_user_k - P_user) / P_user > 1e-3:\n",
        "                    raise ValueError('Power constraint not satisfied with equality')\n",
        "            else:\n",
        "                if power_user_k > P_user:\n",
        "                    raise ValueError('Power constraint not satisfied with inequality')"
      ]
    },
    {
      "cell_type": "markdown",
      "metadata": {
        "id": "t7zHyCpJfLYR"
      },
      "source": [
        "## **Main**"
      ]
    },
    {
      "cell_type": "code",
      "execution_count": null,
      "metadata": {
        "id": "sXtQn9_CfpPv"
      },
      "outputs": [],
      "source": [
        "np.random.seed(1)                                                               # For reproducibility\n",
        "\n",
        "# Simulation options\n",
        "wrapped = True                                                                  # Wrapped channel model\n",
        "fading = 2                                                                      # Fading: Rayleigh (1) or Rice (2)\n",
        "CSI = 2                                                                         # CSI assumption: perfect (1) or imperfect (2)\n",
        "constraint = 1                                                                  # EMF constraint: inactive (0) or active (1)\n",
        "\n",
        "# Optimization parameters\n",
        "N_channels = int(1e3)                                                           # Number of channel realizations\n",
        "N_power = 2                                                                     # Number of power control policies: uniform (UPC) and fractional (FPC)\n",
        "\n",
        "# Channel generation\n",
        "M_CF = 50                                                                       # Number of access points (APs) in the cell-free massive MIMO (CF-mMIMO) setup\n",
        "N_AP = 4                                                                        # Number of antennas at the AP\n",
        "N_BS = M_CF                                                                     # Number of antennas for the multi-cell mMIMO (MC-mMIMO) base stations (BSs)\n",
        "M_MC = N_AP                                                                     # Number of BSs in the MC-mMIMO case\n",
        "K = 40                                                                          # Number of users\n",
        "N_users_APC = 10                                                                # Number of users that each AP is connected to in the AP-centric CF-mMIMO (APC-CF-mMIMO) setup\n",
        "N_APs_UC = 5                                                                    # Number of APs to which each user is connected to in the user-centric CF-mMIMO (UC-CF-mMIMO) setup\n",
        "f = 1.9e9                                                                       # Carrier frequency\n",
        "wavelength = 3e8 / f                                                            # Wavelength\n",
        "antenna_spacing = wavelength / 2                                                # Antenna spacing (uniform linear array)\n",
        "BW = 20e6                                                                       # Bandwidth\n",
        "h_AP = 10                                                                       # AP/BS height\n",
        "h_user = 1.65                                                                   # User height\n",
        "d_min = 1e1                                                                     # Minimum 2D AP/BS-user distance\n",
        "D = 1e3                                                                         # D x D is the size of the considered square area\n",
        "antenna_gain = 1                                                                # Antenna gain of users\n",
        "\n",
        "# Power budgets\n",
        "P_user = 100e-3                                                                 # Power budget of the single user (CF-mMIMO setup)\n",
        "P_user *= antenna_gain                                                          # ... add antenna gain\n",
        "P_0 = 10**(-10 / 10) * 1e-3                                                     # FPC parameter\n",
        "alpha = 0.5                                                                     # Path-loss compensation factor\n",
        "\n",
        "# Noise variance\n",
        "noise_figure = 9                                                                # Noise figure in dB\n",
        "N0 = -174                                                                       # PSD noise in dBm/Hz (AWGN)\n",
        "noise_variance = BW * 10**(0.1 * noise_figure) * 10**(0.1 * N0) * 1e-3          # F*N0*B\n",
        "\n",
        "# Pilot assignment\n",
        "tau_c = 200                                                                     # Length of coherence interval in time/frequency samples\n",
        "tau_p = int(np.ceil(K / 2))                                                     # Number of pilot symbols\n",
        "Pilot_Set = PilotSetOrthogonal(tau_p)                                           # Set of orthogonal pilots\n",
        "Phi, Assignment = PilotAssignmentRandom(K, tau_p, Pilot_Set)                    # Random pilot assignment\n",
        "P_training = 100e-3                                                             # Users (UL) training power\n",
        "P_training *= antenna_gain                                                      # ... add antenna gain\n",
        "Eta_pilot = tau_p * P_training * np.ones(K)                                     # ... over tau_p sequences\n",
        "\n",
        "# Pure CF (or fully-connected network) associations\n",
        "M_ASS_CF = [list(range(0, M_CF)) for _ in range(K)]                             # All APs are associated to all users\n",
        "\n",
        "# Data rates and specific absorption rates (SARs)\n",
        "R_CF = np.zeros((K, N_power, N_channels))\n",
        "R_UC = np.zeros((K, N_power, N_channels))\n",
        "R_APC = np.zeros((K, N_power, N_channels))\n",
        "R_MC = np.zeros((K, N_power, N_channels))\n",
        "\n",
        "S_CF = np.zeros((K, N_power, N_channels))\n",
        "S_UC = np.zeros((K, N_power, N_channels))\n",
        "S_APC = np.zeros((K, N_power, N_channels))\n",
        "S_MC = np.zeros((K, N_power, N_channels))\n",
        "\n",
        "# Electromagnetic field (EMF) exposure UL constraints\n",
        "b = 8                                                                           # SAR coefficient\n",
        "EMF = 0.08                                                                      # Whole-body maximum SAR in W/kg\n",
        "\n",
        "if constraint == 0:\n",
        "    EMF = np.inf\n",
        "\n",
        "# Monte Carlo iterations\n",
        "for n in range(0, N_channels):\n",
        "    print(f'Channel realization {n + 1} out of {N_channels}')\n",
        "\n",
        "    # User and AP positions\n",
        "    AP_pos = np.concatenate((D * np.random.rand(M_CF, 2), h_AP * np.ones((M_CF, 1))), axis=1)\n",
        "    user_pos = np.concatenate((D * np.random.rand(K, 2), h_user * np.ones((K, 1))), axis=1)\n",
        "\n",
        "    # 4 fixed BSs with N_AP antenna each and located at the center of the 4 quadrants of the deployment area.\n",
        "    BS_pos = np.zeros((M_MC, 3))\n",
        "    BS_pos[0, :] = [D / 4, D / 4, h_AP]\n",
        "    BS_pos[1, :] = [3 * D / 4, D / 4, h_AP]\n",
        "    BS_pos[2, :] = [3 * D / 4, 3 * D / 4, h_AP]\n",
        "    BS_pos[3, :] = [D / 4, 3 * D / 4, h_AP]\n",
        "\n",
        "    # Guarantee minimum distance\n",
        "    user_pos = GuaranteeMinimumDistance(np.concatenate((AP_pos, BS_pos), axis=0), user_pos, D, M_CF + M_MC, K, d_min, wrapped)\n",
        "\n",
        "    if n == 0:\n",
        "        fig = plt.figure()\n",
        "        ax = fig.add_subplot(111, projection='3d')\n",
        "        ax.scatter(user_pos[:, 0], user_pos[:, 1], user_pos[:, 2], marker='x')\n",
        "        ax.scatter(AP_pos[:, 0], AP_pos[:, 1], AP_pos[:, 2], marker='o')\n",
        "        ax.scatter(BS_pos[:, 0], BS_pos[:, 1], BS_pos[:, 2], marker='s')\n",
        "        ax.set_xlabel('X-axis', labelpad=10)\n",
        "        ax.set_ylabel('Y-axis', labelpad=10)\n",
        "        ax.set_title('Deployment Example', fontsize=15)\n",
        "        ax.legend(['User', 'AP', 'BS'], loc='best')\n",
        "        ax.grid(True, which='both', linestyle='--', linewidth=0.5)\n",
        "        ax.minorticks_on()\n",
        "        plt.show()\n",
        "\n",
        "    # Scenarios CF-mMIMO\n",
        "    # Channel and large-scale fading coefficients\n",
        "    H, Beta, C = ChannelModel(f, AP_pos, user_pos, N_AP, M_CF, K, antenna_spacing, wavelength, wrapped, D, d_min, fading)\n",
        "\n",
        "    # LMMSE estimation\n",
        "    if CSI == 1:\n",
        "        H_estimate = H\n",
        "    elif CSI == 2:\n",
        "        H_estimate = ChannelEstimation(N_AP, M_CF, K, tau_p, H, C, Phi, Eta_pilot, noise_variance)\n",
        "\n",
        "    # MRC equalizer\n",
        "    G = Filtering_UL(N_AP, M_CF, K, H_estimate)\n",
        "\n",
        "    # I) Pure CF\n",
        "    # Associations\n",
        "    M_ASS = M_ASS_CF\n",
        "\n",
        "    # Power control results\n",
        "    R, S = PowerControl_UL(K, N_power, C, P_user, M_ASS, b, EMF, H, G, noise_variance, P_0, alpha)\n",
        "    R_CF[:, :, n] = R\n",
        "    S_CF[:, :, n] = S\n",
        "\n",
        "    # II) UC\n",
        "    # Associations\n",
        "    _, M_ASS = UserAssociationUC(M_CF, K, Beta, N_APs_UC)\n",
        "\n",
        "    # Power control results\n",
        "    R, S = PowerControl_UL(K, N_power, C, P_user, M_ASS, b, EMF, H, G, noise_variance, P_0, alpha)\n",
        "    R_UC[:, :, n] = R\n",
        "    S_UC[:, :, n] = S\n",
        "\n",
        "    # III) APC\n",
        "    # Associations\n",
        "    _, M_ASS = UserAssociationAPC(M_CF, K, Beta, N_users_APC)\n",
        "\n",
        "    # Power control results\n",
        "    R, S = PowerControl_UL(K, N_power, C, P_user, M_ASS, b, EMF, H, G, noise_variance, P_0, alpha)\n",
        "    R_APC[:, :, n] = R\n",
        "    S_APC[:, :, n] = S\n",
        "\n",
        "    # Scenario MC-mMIMO\n",
        "    # Channel and large-scale fading coefficients\n",
        "    H, Beta, C = ChannelModel(f, BS_pos, user_pos, N_BS, M_MC, K, antenna_spacing, wavelength, wrapped, D, d_min, fading)\n",
        "\n",
        "    # Channel estimation\n",
        "    if CSI == 1:\n",
        "        H_estimate = H\n",
        "    elif CSI == 2:\n",
        "        H_estimate = ChannelEstimation(N_BS, M_MC, K, tau_p, H, C, Phi, Eta_pilot, noise_variance)\n",
        "\n",
        "    # MRC equalizer\n",
        "    G = Filtering_UL(N_BS, M_MC, K, H_estimate)\n",
        "\n",
        "    # User association MC-mMIMO\n",
        "    _, M_ASS = UserAssociationUC(M_MC, K, Beta, 1)\n",
        "\n",
        "    # Power control results\n",
        "    R, S = PowerControl_UL(K, N_power, C, P_user, M_ASS, b, EMF, H, G, noise_variance, P_0, alpha)\n",
        "    R_MC[:, :, n] = R\n",
        "    S_MC[:, :, n] = S\n",
        "\n",
        "# Convert rates from bps/Hz to bps\n",
        "R_CF *= BW * (1 - tau_p / tau_c) / 2\n",
        "R_UC *= BW * (1 - tau_p / tau_c) / 2\n",
        "R_APC *= BW * (1 - tau_p / tau_c) / 2\n",
        "R_MC *= BW * (1 - tau_p / tau_c) / 2\n",
        "\n",
        "# Plot rate results\n",
        "plt.figure()\n",
        "markers = [\"o\",\"s\"]\n",
        "colors = ['#1f77b4', '#ff7f0e', '#2ca02c', '#d62728']\n",
        "for i in range(N_power):\n",
        "      ind = 0\n",
        "      aux_R = R_CF[:, i, :]\n",
        "      ecdf = scipy.stats.ecdf(aux_R.ravel() / 1e6)\n",
        "      x = ecdf.cdf.quantiles\n",
        "      y = ecdf.cdf.probabilities\n",
        "      plt.plot(x, y)\n",
        "      plt.gca().lines[i + 2*ind].set_color(colors[ind])\n",
        "      plt.gca().lines[i + 2*ind].set_marker(markers[i])\n",
        "      plt.gca().lines[i + 2*ind].set_markevery(int(K * N_channels / 40))\n",
        "\n",
        "for i in range(N_power):\n",
        "      ind = 1\n",
        "      aux_R = R_UC[:, i, :]\n",
        "      ecdf = scipy.stats.ecdf(aux_R.ravel() / 1e6)\n",
        "      x = ecdf.cdf.quantiles\n",
        "      y = ecdf.cdf.probabilities\n",
        "      plt.plot(x, y)\n",
        "      plt.gca().lines[i + 2*ind].set_color(colors[ind])\n",
        "      plt.gca().lines[i + 2*ind].set_marker(markers[i])\n",
        "      plt.gca().lines[i + 2*ind].set_markevery(int(K * N_channels / 20))\n",
        "\n",
        "for i in range(N_power):\n",
        "      ind = 2\n",
        "      aux_R = R_APC[:, i, :]\n",
        "      ecdf = scipy.stats.ecdf(aux_R.ravel() / 1e6)\n",
        "      x = ecdf.cdf.quantiles\n",
        "      y = ecdf.cdf.probabilities\n",
        "      plt.plot(x, y)\n",
        "      plt.gca().lines[i + 2*ind].set_color(colors[ind])\n",
        "      plt.gca().lines[i + 2*ind].set_marker(markers[i])\n",
        "      plt.gca().lines[i + 2*ind].set_markevery(int(K * N_channels / 10))\n",
        "\n",
        "for i in range(N_power):\n",
        "      ind = 3\n",
        "      aux_R = R_MC[:, i, :]\n",
        "      ecdf = scipy.stats.ecdf(aux_R.ravel() / 1e6)\n",
        "      x = ecdf.cdf.quantiles\n",
        "      y = ecdf.cdf.probabilities\n",
        "      plt.plot(x, y)\n",
        "      plt.gca().lines[i + 2*ind].set_color(colors[ind])\n",
        "      plt.gca().lines[i + 2*ind].set_marker(markers[i])\n",
        "      plt.gca().lines[i + 2*ind].set_markevery(int(K * N_channels / 5))\n",
        "\n",
        "plt.xlabel('Rate per user [Mbit/s]', fontsize=15)\n",
        "plt.ylabel('CDF', fontsize=15)\n",
        "plt.title('Throughput vs Power Control (UL)', fontsize=15)\n",
        "plt.legend(['CF-mMIMO: UPC', 'CF-mMIMO: FPC', 'UC-CF-mMIMO: UPC', 'UC-CF-mMIMO: FPC', 'APC-CF-mMIMO: UPC',\n",
        "            'APC-CF-mMIMO: FPC', 'MC-mMIMO: UPC', 'MC-mMIMO: FPC'], loc='best', fontsize=15)\n",
        "plt.grid()\n",
        "plt.show()\n",
        "\n",
        "# Plot SAR results\n",
        "plt.figure()\n",
        "for i in range(N_power):\n",
        "      ind = 0\n",
        "      aux_S = S_CF[:, i, :]\n",
        "      ecdf = scipy.stats.ecdf(aux_S.ravel())\n",
        "      x = ecdf.cdf.quantiles\n",
        "      y = ecdf.cdf.probabilities\n",
        "      if len(x) == 1:                                                           # UPC might lead to single values\n",
        "          plt.plot(x*np.ones(K * N_channels), np.linspace(0, 1, K * N_channels))\n",
        "      else:\n",
        "          plt.plot(x, y)\n",
        "      plt.gca().lines[i + 2*ind].set_color(colors[ind])\n",
        "      plt.gca().lines[i + 2*ind].set_marker(markers[i])\n",
        "      plt.gca().lines[i + 2*ind].set_markevery(int(K * N_channels / 40))\n",
        "\n",
        "for i in range(N_power):\n",
        "      ind = 1\n",
        "      aux_S = S_UC[:, i, :]\n",
        "      ecdf = scipy.stats.ecdf(aux_S.ravel())\n",
        "      x = ecdf.cdf.quantiles\n",
        "      y = ecdf.cdf.probabilities\n",
        "      if len(x) == 1:                                                           # UPC might lead to single values\n",
        "          plt.plot(x*np.ones(K * N_channels), np.linspace(0, 1, K * N_channels))\n",
        "      else:\n",
        "          plt.plot(x, y)\n",
        "      plt.gca().lines[i + 2*ind].set_color(colors[ind])\n",
        "      plt.gca().lines[i + 2*ind].set_marker(markers[i])\n",
        "      plt.gca().lines[i + 2*ind].set_markevery(int(K * N_channels / 20))\n",
        "\n",
        "for i in range(N_power):\n",
        "      ind = 2\n",
        "      aux_S = S_APC[:, i, :]\n",
        "      ecdf = scipy.stats.ecdf(aux_S.ravel())\n",
        "      x = ecdf.cdf.quantiles\n",
        "      y = ecdf.cdf.probabilities\n",
        "      if len(x) == 1:                                                           # UPC might lead to single values\n",
        "          plt.plot(x*np.ones(K * N_channels), np.linspace(0, 1, K * N_channels))\n",
        "      else:\n",
        "          plt.plot(x, y)\n",
        "      plt.gca().lines[i + 2*ind].set_color(colors[ind])\n",
        "      plt.gca().lines[i + 2*ind].set_marker(markers[i])\n",
        "      plt.gca().lines[i + 2*ind].set_markevery(int(K * N_channels / 10))\n",
        "\n",
        "for i in range(N_power):\n",
        "      ind = 3\n",
        "      aux_S = S_MC[:, i, :]\n",
        "      ecdf = scipy.stats.ecdf(aux_S.ravel())\n",
        "      x = ecdf.cdf.quantiles\n",
        "      y = ecdf.cdf.probabilities\n",
        "      if len(x) == 1:                                                           # UPC might lead to single values\n",
        "          plt.plot(x*np.ones(K * N_channels), np.linspace(0, 1, K * N_channels))\n",
        "      else:\n",
        "          plt.plot(x, y)\n",
        "      plt.gca().lines[i + 2*ind].set_color(colors[ind])\n",
        "      plt.gca().lines[i + 2*ind].set_marker(markers[i])\n",
        "      plt.gca().lines[i + 2*ind].set_markevery(int(K * N_channels / 5))\n",
        "\n",
        "plt.xlabel('SAR per user [W/kg]', fontsize=15)\n",
        "plt.ylabel('CDF', fontsize=15)\n",
        "plt.title('Exposure vs Power Control (UL)', fontsize=15)\n",
        "plt.legend(['CF-mMIMO: UPC', 'CF-mMIMO: FPC', 'UC-CF-mMIMO: UPC', 'UC-CF-mMIMO: FPC', 'APC-CF-mMIMO: UPC',\n",
        "            'APC-CF-mMIMO: FPC', 'MC-mMIMO: UPC', 'MC-mMIMO: FPC'], loc='best', fontsize=15)\n",
        "plt.xscale('log')\n",
        "plt.grid()\n",
        "plt.show()"
      ]
    }
  ],
  "metadata": {
    "colab": {
      "toc_visible": true,
      "provenance": [],
      "mount_file_id": "1vvgUJYjqpZYS5GDKmbPL4EIM3yHcEPud",
      "authorship_tag": "ABX9TyO5ALV2I+NX0DnORltJsKIL",
      "include_colab_link": true
    },
    "kernelspec": {
      "display_name": "Python 3",
      "name": "python3"
    },
    "language_info": {
      "name": "python"
    }
  },
  "nbformat": 4,
  "nbformat_minor": 0
}